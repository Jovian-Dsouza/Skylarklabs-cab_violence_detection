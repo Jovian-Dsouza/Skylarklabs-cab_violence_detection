{
 "cells": [
  {
   "cell_type": "markdown",
   "source": [
    "## Download Dataset"
   ],
   "metadata": {}
  },
  {
   "cell_type": "markdown",
   "source": [
    "%cd /content\r\n",
    "!pip install gdown > /dev/null\r\n",
    "!apt-get install p7zip-full -y > /dev/null\r\n",
    "\r\n",
    "# https://drive.google.com/file/d/14FficMOD36m_IuOfpQg05qaiTjMNuKZG/view?usp=sharing\r\n",
    "# !gdown --id 14FficMOD36m_IuOfpQg05qaiTjMNuKZG\r\n",
    "# !unzip -o CAR_VIOLENCE_DATASET_final.zip > /dev/null\r\n",
    "\r\n",
    "# https://drive.google.com/file/d/1BbVkWN_pH6oNf3CCTNCTQgqBCu953Pg1/view?usp=sharing\r\n",
    "!gdown --id 1BbVkWN_pH6oNf3CCTNCTQgqBCu953Pg1\r\n",
    "!unzip -o cab_violence_final.zip > /dev/null\r\n",
    "!mv cab_violence_final CAR_VIOLENCE_DATASET_final"
   ],
   "metadata": {}
  },
  {
   "cell_type": "markdown",
   "source": [
    "## Download Pre requisite"
   ],
   "metadata": {}
  },
  {
   "cell_type": "code",
   "execution_count": null,
   "source": [
    "!pip install -r skylark_autotrainer/requirements.txt > /dev/null 2>/dev/null\r\n",
    "!pip install pytorch_lightning pytorchvideo > /dev/null\r\n",
    "!pip install wandb > /dev/null"
   ],
   "outputs": [],
   "metadata": {}
  },
  {
   "cell_type": "markdown",
   "source": [
    "## Run trainer Script"
   ],
   "metadata": {}
  },
  {
   "cell_type": "code",
   "execution_count": null,
   "source": [
    "%cd /content/Skylarklabs-cab_violence_detection\r\n",
    "!python train.py --stage 1\r\n",
    "!python train.py --stage 2\r\n",
    "!python train.py --stage 3 \r\n",
    "!python train.py --deploy"
   ],
   "outputs": [],
   "metadata": {}
  }
 ],
 "metadata": {
  "orig_nbformat": 4,
  "language_info": {
   "name": "python"
  }
 },
 "nbformat": 4,
 "nbformat_minor": 2
}